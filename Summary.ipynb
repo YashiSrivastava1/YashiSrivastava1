{
  "nbformat": 4,
  "nbformat_minor": 0,
  "metadata": {
    "colab": {
      "provenance": [],
      "authorship_tag": "ABX9TyNF3qVAT2EygWmK63T0oGjz",
      "include_colab_link": true
    },
    "kernelspec": {
      "name": "python3",
      "display_name": "Python 3"
    },
    "language_info": {
      "name": "python"
    }
  },
  "cells": [
    {
      "cell_type": "markdown",
      "metadata": {
        "id": "view-in-github",
        "colab_type": "text"
      },
      "source": [
        "<a href=\"https://colab.research.google.com/github/YashiSrivastava1/YashiSrivastava1/blob/main/Summary.ipynb\" target=\"_parent\"><img src=\"https://colab.research.google.com/assets/colab-badge.svg\" alt=\"Open In Colab\"/></a>"
      ]
    },
    {
      "cell_type": "code",
      "execution_count": null,
      "metadata": {
        "id": "QA-tfKmZwK3m"
      },
      "outputs": [],
      "source": [
        "text=\"\"\"\n",
        "When his brother is killed in a robbery, paraplegic Marine Jake Sully decides to take his place in a mission on the distant world of Pandora. There he learns of greedy corporate figurehead Parker Selfridge's intentions of driving off the native humanoid \"Na'vi\" in order to mine for the precious material scattered throughout their rich woodland. In exchange for the spinal surgery that will fix his legs, Jake gathers knowledge, of the Indigenous Race and their Culture, for the cooperating military unit spearheaded by gung-ho Colonel Quaritch, while simultaneously attempting to infiltrate the Na'vi people with the use of an \"avatar\" identity. While Jake begins to bond with the native tribe and quickly falls in love with the beautiful alien Neytiri, the restless Colonel moves forward with his ruthless extermination tactics, forcing the soldier to take a stand - and fight back in an epic battle for the fate of Pandora.\n",
        "\"\"\""
      ]
    },
    {
      "cell_type": "code",
      "source": [
        "!pip install -U spacy\n",
        "!python -m spacy download en_core_web_sm"
      ],
      "metadata": {
        "colab": {
          "base_uri": "https://localhost:8080/"
        },
        "id": "tL84LOdr3Swi",
        "outputId": "7fcb2e34-33fa-4887-dac7-694198664872"
      },
      "execution_count": null,
      "outputs": [
        {
          "output_type": "stream",
          "name": "stdout",
          "text": [
            "Looking in indexes: https://pypi.org/simple, https://us-python.pkg.dev/colab-wheels/public/simple/\n",
            "Requirement already satisfied: spacy in /usr/local/lib/python3.8/dist-packages (3.4.4)\n",
            "Requirement already satisfied: jinja2 in /usr/local/lib/python3.8/dist-packages (from spacy) (2.11.3)\n",
            "Requirement already satisfied: srsly<3.0.0,>=2.4.3 in /usr/local/lib/python3.8/dist-packages (from spacy) (2.4.5)\n",
            "Requirement already satisfied: catalogue<2.1.0,>=2.0.6 in /usr/local/lib/python3.8/dist-packages (from spacy) (2.0.8)\n",
            "Requirement already satisfied: tqdm<5.0.0,>=4.38.0 in /usr/local/lib/python3.8/dist-packages (from spacy) (4.64.1)\n",
            "Requirement already satisfied: wasabi<1.1.0,>=0.9.1 in /usr/local/lib/python3.8/dist-packages (from spacy) (0.10.1)\n",
            "Requirement already satisfied: typer<0.8.0,>=0.3.0 in /usr/local/lib/python3.8/dist-packages (from spacy) (0.7.0)\n",
            "Requirement already satisfied: preshed<3.1.0,>=3.0.2 in /usr/local/lib/python3.8/dist-packages (from spacy) (3.0.8)\n",
            "Requirement already satisfied: murmurhash<1.1.0,>=0.28.0 in /usr/local/lib/python3.8/dist-packages (from spacy) (1.0.9)\n",
            "Requirement already satisfied: pydantic!=1.8,!=1.8.1,<1.11.0,>=1.7.4 in /usr/local/lib/python3.8/dist-packages (from spacy) (1.10.2)\n",
            "Requirement already satisfied: thinc<8.2.0,>=8.1.0 in /usr/local/lib/python3.8/dist-packages (from spacy) (8.1.5)\n",
            "Requirement already satisfied: spacy-loggers<2.0.0,>=1.0.0 in /usr/local/lib/python3.8/dist-packages (from spacy) (1.0.4)\n",
            "Requirement already satisfied: packaging>=20.0 in /usr/local/lib/python3.8/dist-packages (from spacy) (21.3)\n",
            "Requirement already satisfied: langcodes<4.0.0,>=3.2.0 in /usr/local/lib/python3.8/dist-packages (from spacy) (3.3.0)\n",
            "Requirement already satisfied: numpy>=1.15.0 in /usr/local/lib/python3.8/dist-packages (from spacy) (1.21.6)\n",
            "Requirement already satisfied: cymem<2.1.0,>=2.0.2 in /usr/local/lib/python3.8/dist-packages (from spacy) (2.0.7)\n",
            "Requirement already satisfied: requests<3.0.0,>=2.13.0 in /usr/local/lib/python3.8/dist-packages (from spacy) (2.23.0)\n",
            "Requirement already satisfied: setuptools in /usr/local/lib/python3.8/dist-packages (from spacy) (57.4.0)\n",
            "Requirement already satisfied: smart-open<7.0.0,>=5.2.1 in /usr/local/lib/python3.8/dist-packages (from spacy) (6.3.0)\n",
            "Requirement already satisfied: pathy>=0.3.5 in /usr/local/lib/python3.8/dist-packages (from spacy) (0.10.1)\n",
            "Requirement already satisfied: spacy-legacy<3.1.0,>=3.0.10 in /usr/local/lib/python3.8/dist-packages (from spacy) (3.0.10)\n",
            "Requirement already satisfied: pyparsing!=3.0.5,>=2.0.2 in /usr/local/lib/python3.8/dist-packages (from packaging>=20.0->spacy) (3.0.9)\n",
            "Requirement already satisfied: typing-extensions>=4.1.0 in /usr/local/lib/python3.8/dist-packages (from pydantic!=1.8,!=1.8.1,<1.11.0,>=1.7.4->spacy) (4.4.0)\n",
            "Requirement already satisfied: urllib3!=1.25.0,!=1.25.1,<1.26,>=1.21.1 in /usr/local/lib/python3.8/dist-packages (from requests<3.0.0,>=2.13.0->spacy) (1.24.3)\n",
            "Requirement already satisfied: certifi>=2017.4.17 in /usr/local/lib/python3.8/dist-packages (from requests<3.0.0,>=2.13.0->spacy) (2022.12.7)\n",
            "Requirement already satisfied: chardet<4,>=3.0.2 in /usr/local/lib/python3.8/dist-packages (from requests<3.0.0,>=2.13.0->spacy) (3.0.4)\n",
            "Requirement already satisfied: idna<3,>=2.5 in /usr/local/lib/python3.8/dist-packages (from requests<3.0.0,>=2.13.0->spacy) (2.10)\n",
            "Requirement already satisfied: confection<1.0.0,>=0.0.1 in /usr/local/lib/python3.8/dist-packages (from thinc<8.2.0,>=8.1.0->spacy) (0.0.3)\n",
            "Requirement already satisfied: blis<0.8.0,>=0.7.8 in /usr/local/lib/python3.8/dist-packages (from thinc<8.2.0,>=8.1.0->spacy) (0.7.9)\n",
            "Requirement already satisfied: click<9.0.0,>=7.1.1 in /usr/local/lib/python3.8/dist-packages (from typer<0.8.0,>=0.3.0->spacy) (7.1.2)\n",
            "Requirement already satisfied: MarkupSafe>=0.23 in /usr/local/lib/python3.8/dist-packages (from jinja2->spacy) (2.0.1)\n",
            "/usr/local/lib/python3.8/dist-packages/torch/cuda/__init__.py:497: UserWarning: Can't initialize NVML\n",
            "  warnings.warn(\"Can't initialize NVML\")\n",
            "2022-12-30 07:11:37.857339: E tensorflow/stream_executor/cuda/cuda_driver.cc:271] failed call to cuInit: CUDA_ERROR_NO_DEVICE: no CUDA-capable device is detected\n",
            "Looking in indexes: https://pypi.org/simple, https://us-python.pkg.dev/colab-wheels/public/simple/\n",
            "Collecting en-core-web-sm==3.4.1\n",
            "  Downloading https://github.com/explosion/spacy-models/releases/download/en_core_web_sm-3.4.1/en_core_web_sm-3.4.1-py3-none-any.whl (12.8 MB)\n",
            "\u001b[K     |████████████████████████████████| 12.8 MB 243 kB/s \n",
            "\u001b[?25hRequirement already satisfied: spacy<3.5.0,>=3.4.0 in /usr/local/lib/python3.8/dist-packages (from en-core-web-sm==3.4.1) (3.4.4)\n",
            "Requirement already satisfied: cymem<2.1.0,>=2.0.2 in /usr/local/lib/python3.8/dist-packages (from spacy<3.5.0,>=3.4.0->en-core-web-sm==3.4.1) (2.0.7)\n",
            "Requirement already satisfied: pydantic!=1.8,!=1.8.1,<1.11.0,>=1.7.4 in /usr/local/lib/python3.8/dist-packages (from spacy<3.5.0,>=3.4.0->en-core-web-sm==3.4.1) (1.10.2)\n",
            "Requirement already satisfied: setuptools in /usr/local/lib/python3.8/dist-packages (from spacy<3.5.0,>=3.4.0->en-core-web-sm==3.4.1) (57.4.0)\n",
            "Requirement already satisfied: numpy>=1.15.0 in /usr/local/lib/python3.8/dist-packages (from spacy<3.5.0,>=3.4.0->en-core-web-sm==3.4.1) (1.21.6)\n",
            "Requirement already satisfied: spacy-loggers<2.0.0,>=1.0.0 in /usr/local/lib/python3.8/dist-packages (from spacy<3.5.0,>=3.4.0->en-core-web-sm==3.4.1) (1.0.4)\n",
            "Requirement already satisfied: wasabi<1.1.0,>=0.9.1 in /usr/local/lib/python3.8/dist-packages (from spacy<3.5.0,>=3.4.0->en-core-web-sm==3.4.1) (0.10.1)\n",
            "Requirement already satisfied: requests<3.0.0,>=2.13.0 in /usr/local/lib/python3.8/dist-packages (from spacy<3.5.0,>=3.4.0->en-core-web-sm==3.4.1) (2.23.0)\n",
            "Requirement already satisfied: catalogue<2.1.0,>=2.0.6 in /usr/local/lib/python3.8/dist-packages (from spacy<3.5.0,>=3.4.0->en-core-web-sm==3.4.1) (2.0.8)\n",
            "Requirement already satisfied: preshed<3.1.0,>=3.0.2 in /usr/local/lib/python3.8/dist-packages (from spacy<3.5.0,>=3.4.0->en-core-web-sm==3.4.1) (3.0.8)\n",
            "Requirement already satisfied: tqdm<5.0.0,>=4.38.0 in /usr/local/lib/python3.8/dist-packages (from spacy<3.5.0,>=3.4.0->en-core-web-sm==3.4.1) (4.64.1)\n",
            "Requirement already satisfied: langcodes<4.0.0,>=3.2.0 in /usr/local/lib/python3.8/dist-packages (from spacy<3.5.0,>=3.4.0->en-core-web-sm==3.4.1) (3.3.0)\n",
            "Requirement already satisfied: typer<0.8.0,>=0.3.0 in /usr/local/lib/python3.8/dist-packages (from spacy<3.5.0,>=3.4.0->en-core-web-sm==3.4.1) (0.7.0)\n",
            "Requirement already satisfied: spacy-legacy<3.1.0,>=3.0.10 in /usr/local/lib/python3.8/dist-packages (from spacy<3.5.0,>=3.4.0->en-core-web-sm==3.4.1) (3.0.10)\n",
            "Requirement already satisfied: pathy>=0.3.5 in /usr/local/lib/python3.8/dist-packages (from spacy<3.5.0,>=3.4.0->en-core-web-sm==3.4.1) (0.10.1)\n",
            "Requirement already satisfied: srsly<3.0.0,>=2.4.3 in /usr/local/lib/python3.8/dist-packages (from spacy<3.5.0,>=3.4.0->en-core-web-sm==3.4.1) (2.4.5)\n",
            "Requirement already satisfied: smart-open<7.0.0,>=5.2.1 in /usr/local/lib/python3.8/dist-packages (from spacy<3.5.0,>=3.4.0->en-core-web-sm==3.4.1) (6.3.0)\n",
            "Requirement already satisfied: murmurhash<1.1.0,>=0.28.0 in /usr/local/lib/python3.8/dist-packages (from spacy<3.5.0,>=3.4.0->en-core-web-sm==3.4.1) (1.0.9)\n",
            "Requirement already satisfied: jinja2 in /usr/local/lib/python3.8/dist-packages (from spacy<3.5.0,>=3.4.0->en-core-web-sm==3.4.1) (2.11.3)\n",
            "Requirement already satisfied: packaging>=20.0 in /usr/local/lib/python3.8/dist-packages (from spacy<3.5.0,>=3.4.0->en-core-web-sm==3.4.1) (21.3)\n",
            "Requirement already satisfied: thinc<8.2.0,>=8.1.0 in /usr/local/lib/python3.8/dist-packages (from spacy<3.5.0,>=3.4.0->en-core-web-sm==3.4.1) (8.1.5)\n",
            "Requirement already satisfied: pyparsing!=3.0.5,>=2.0.2 in /usr/local/lib/python3.8/dist-packages (from packaging>=20.0->spacy<3.5.0,>=3.4.0->en-core-web-sm==3.4.1) (3.0.9)\n",
            "Requirement already satisfied: typing-extensions>=4.1.0 in /usr/local/lib/python3.8/dist-packages (from pydantic!=1.8,!=1.8.1,<1.11.0,>=1.7.4->spacy<3.5.0,>=3.4.0->en-core-web-sm==3.4.1) (4.4.0)\n",
            "Requirement already satisfied: idna<3,>=2.5 in /usr/local/lib/python3.8/dist-packages (from requests<3.0.0,>=2.13.0->spacy<3.5.0,>=3.4.0->en-core-web-sm==3.4.1) (2.10)\n",
            "Requirement already satisfied: certifi>=2017.4.17 in /usr/local/lib/python3.8/dist-packages (from requests<3.0.0,>=2.13.0->spacy<3.5.0,>=3.4.0->en-core-web-sm==3.4.1) (2022.12.7)\n",
            "Requirement already satisfied: chardet<4,>=3.0.2 in /usr/local/lib/python3.8/dist-packages (from requests<3.0.0,>=2.13.0->spacy<3.5.0,>=3.4.0->en-core-web-sm==3.4.1) (3.0.4)\n",
            "Requirement already satisfied: urllib3!=1.25.0,!=1.25.1,<1.26,>=1.21.1 in /usr/local/lib/python3.8/dist-packages (from requests<3.0.0,>=2.13.0->spacy<3.5.0,>=3.4.0->en-core-web-sm==3.4.1) (1.24.3)\n",
            "Requirement already satisfied: confection<1.0.0,>=0.0.1 in /usr/local/lib/python3.8/dist-packages (from thinc<8.2.0,>=8.1.0->spacy<3.5.0,>=3.4.0->en-core-web-sm==3.4.1) (0.0.3)\n",
            "Requirement already satisfied: blis<0.8.0,>=0.7.8 in /usr/local/lib/python3.8/dist-packages (from thinc<8.2.0,>=8.1.0->spacy<3.5.0,>=3.4.0->en-core-web-sm==3.4.1) (0.7.9)\n",
            "Requirement already satisfied: click<9.0.0,>=7.1.1 in /usr/local/lib/python3.8/dist-packages (from typer<0.8.0,>=0.3.0->spacy<3.5.0,>=3.4.0->en-core-web-sm==3.4.1) (7.1.2)\n",
            "Requirement already satisfied: MarkupSafe>=0.23 in /usr/local/lib/python3.8/dist-packages (from jinja2->spacy<3.5.0,>=3.4.0->en-core-web-sm==3.4.1) (2.0.1)\n",
            "\u001b[38;5;2m✔ Download and installation successful\u001b[0m\n",
            "You can now load the package via spacy.load('en_core_web_sm')\n"
          ]
        }
      ]
    },
    {
      "cell_type": "code",
      "source": [
        "import spacy\n",
        "import spacy.lang.en.stop_words as STOP_WORDS\n",
        "from string import punctuation"
      ],
      "metadata": {
        "id": "fu8cXAlmwumF"
      },
      "execution_count": null,
      "outputs": []
    },
    {
      "cell_type": "code",
      "source": [
        "stopwords = list('STOP_WORDS')\n",
        "stopwords"
      ],
      "metadata": {
        "colab": {
          "base_uri": "https://localhost:8080/"
        },
        "id": "0zKtSuyWxASr",
        "outputId": "7202f559-fecc-4bf3-e00e-8b0befdcda62"
      },
      "execution_count": null,
      "outputs": [
        {
          "output_type": "execute_result",
          "data": {
            "text/plain": [
              "['S', 'T', 'O', 'P', '_', 'W', 'O', 'R', 'D', 'S']"
            ]
          },
          "metadata": {},
          "execution_count": 38
        }
      ]
    },
    {
      "cell_type": "code",
      "source": [
        "nlp=spacy.load('en_core_web_sm')"
      ],
      "metadata": {
        "id": "1olzH0jDytux"
      },
      "execution_count": null,
      "outputs": []
    },
    {
      "cell_type": "code",
      "source": [
        "doc=nlp(text)"
      ],
      "metadata": {
        "id": "kskEHkuJzymt"
      },
      "execution_count": null,
      "outputs": []
    },
    {
      "cell_type": "code",
      "source": [
        "tokens = [token.text for token in doc]\n",
        "print(tokens)"
      ],
      "metadata": {
        "colab": {
          "base_uri": "https://localhost:8080/"
        },
        "id": "LCD5X8HOz8ME",
        "outputId": "ada817a1-9e64-46c1-f6ad-bc47bfbe6ac7"
      },
      "execution_count": null,
      "outputs": [
        {
          "output_type": "stream",
          "name": "stdout",
          "text": [
            "['\\n', 'When', 'his', 'brother', 'is', 'killed', 'in', 'a', 'robbery', ',', 'paraplegic', 'Marine', 'Jake', 'Sully', 'decides', 'to', 'take', 'his', 'place', 'in', 'a', 'mission', 'on', 'the', 'distant', 'world', 'of', 'Pandora', '.', 'There', 'he', 'learns', 'of', 'greedy', 'corporate', 'figurehead', 'Parker', 'Selfridge', \"'s\", 'intentions', 'of', 'driving', 'off', 'the', 'native', 'humanoid', '\"', \"Na'vi\", '\"', 'in', 'order', 'to', 'mine', 'for', 'the', 'precious', 'material', 'scattered', 'throughout', 'their', 'rich', 'woodland', '.', 'In', 'exchange', 'for', 'the', 'spinal', 'surgery', 'that', 'will', 'fix', 'his', 'legs', ',', 'Jake', 'gathers', 'knowledge', ',', 'of', 'the', 'Indigenous', 'Race', 'and', 'their', 'Culture', ',', 'for', 'the', 'cooperating', 'military', 'unit', 'spearheaded', 'by', 'gung', '-', 'ho', 'Colonel', 'Quaritch', ',', 'while', 'simultaneously', 'attempting', 'to', 'infiltrate', 'the', \"Na'vi\", 'people', 'with', 'the', 'use', 'of', 'an', '\"', 'avatar', '\"', 'identity', '.', 'While', 'Jake', 'begins', 'to', 'bond', 'with', 'the', 'native', 'tribe', 'and', 'quickly', 'falls', 'in', 'love', 'with', 'the', 'beautiful', 'alien', 'Neytiri', ',', 'the', 'restless', 'Colonel', 'moves', 'forward', 'with', 'his', 'ruthless', 'extermination', 'tactics', ',', 'forcing', 'the', 'soldier', 'to', 'take', 'a', 'stand', '-', 'and', 'fight', 'back', 'in', 'an', 'epic', 'battle', 'for', 'the', 'fate', 'of', 'Pandora', '.', '\\n']\n"
          ]
        }
      ]
    },
    {
      "cell_type": "code",
      "source": [],
      "metadata": {
        "id": "BFXkfM1x08gX"
      },
      "execution_count": null,
      "outputs": []
    },
    {
      "cell_type": "code",
      "source": [
        "punctuation = punctuation + '\\n'\n",
        "punctuation"
      ],
      "metadata": {
        "colab": {
          "base_uri": "https://localhost:8080/",
          "height": 36
        },
        "id": "ynWjs89o0a-w",
        "outputId": "db00250c-6602-45b2-90a5-74e76fbe45cc"
      },
      "execution_count": null,
      "outputs": [
        {
          "output_type": "execute_result",
          "data": {
            "text/plain": [
              "'!\"#$%&\\'()*+,-./:;<=>?@[\\\\]^_`{|}~\\n'"
            ],
            "application/vnd.google.colaboratory.intrinsic+json": {
              "type": "string"
            }
          },
          "metadata": {},
          "execution_count": 42
        }
      ]
    },
    {
      "cell_type": "code",
      "source": [
        "word_frequencies = {}\n",
        "for word in doc:\n",
        "    if word.text.lower() not in stopwords:\n",
        "        if word.text.lower() not in punctuation:\n",
        "            if word.text not in word_frequencies.keys():\n",
        "                word_frequencies[word.text] = 1\n",
        "            else: word_frequencies[word.text]+=1"
      ],
      "metadata": {
        "id": "J7Bw8mR_0_bI"
      },
      "execution_count": null,
      "outputs": []
    },
    {
      "cell_type": "code",
      "source": [
        "word_frequencies"
      ],
      "metadata": {
        "colab": {
          "base_uri": "https://localhost:8080/"
        },
        "id": "pKpbMkJ94r0A",
        "outputId": "a36335eb-4abc-474a-f39a-89dde2b6b8bd"
      },
      "execution_count": null,
      "outputs": [
        {
          "output_type": "execute_result",
          "data": {
            "text/plain": [
              "{'When': 1,\n",
              " 'his': 4,\n",
              " 'brother': 1,\n",
              " 'is': 1,\n",
              " 'killed': 1,\n",
              " 'in': 5,\n",
              " 'a': 3,\n",
              " 'robbery': 1,\n",
              " 'paraplegic': 1,\n",
              " 'Marine': 1,\n",
              " 'Jake': 3,\n",
              " 'Sully': 1,\n",
              " 'decides': 1,\n",
              " 'to': 5,\n",
              " 'take': 2,\n",
              " 'place': 1,\n",
              " 'mission': 1,\n",
              " 'on': 1,\n",
              " 'the': 13,\n",
              " 'distant': 1,\n",
              " 'world': 1,\n",
              " 'of': 6,\n",
              " 'Pandora': 2,\n",
              " 'There': 1,\n",
              " 'he': 1,\n",
              " 'learns': 1,\n",
              " 'greedy': 1,\n",
              " 'corporate': 1,\n",
              " 'figurehead': 1,\n",
              " 'Parker': 1,\n",
              " 'Selfridge': 1,\n",
              " \"'s\": 1,\n",
              " 'intentions': 1,\n",
              " 'driving': 1,\n",
              " 'off': 1,\n",
              " 'native': 2,\n",
              " 'humanoid': 1,\n",
              " \"Na'vi\": 2,\n",
              " 'order': 1,\n",
              " 'mine': 1,\n",
              " 'for': 4,\n",
              " 'precious': 1,\n",
              " 'material': 1,\n",
              " 'scattered': 1,\n",
              " 'throughout': 1,\n",
              " 'their': 2,\n",
              " 'rich': 1,\n",
              " 'woodland': 1,\n",
              " 'In': 1,\n",
              " 'exchange': 1,\n",
              " 'spinal': 1,\n",
              " 'surgery': 1,\n",
              " 'that': 1,\n",
              " 'will': 1,\n",
              " 'fix': 1,\n",
              " 'legs': 1,\n",
              " 'gathers': 1,\n",
              " 'knowledge': 1,\n",
              " 'Indigenous': 1,\n",
              " 'Race': 1,\n",
              " 'and': 3,\n",
              " 'Culture': 1,\n",
              " 'cooperating': 1,\n",
              " 'military': 1,\n",
              " 'unit': 1,\n",
              " 'spearheaded': 1,\n",
              " 'by': 1,\n",
              " 'gung': 1,\n",
              " 'ho': 1,\n",
              " 'Colonel': 2,\n",
              " 'Quaritch': 1,\n",
              " 'while': 1,\n",
              " 'simultaneously': 1,\n",
              " 'attempting': 1,\n",
              " 'infiltrate': 1,\n",
              " 'people': 1,\n",
              " 'with': 4,\n",
              " 'use': 1,\n",
              " 'an': 2,\n",
              " 'avatar': 1,\n",
              " 'identity': 1,\n",
              " 'While': 1,\n",
              " 'begins': 1,\n",
              " 'bond': 1,\n",
              " 'tribe': 1,\n",
              " 'quickly': 1,\n",
              " 'falls': 1,\n",
              " 'love': 1,\n",
              " 'beautiful': 1,\n",
              " 'alien': 1,\n",
              " 'Neytiri': 1,\n",
              " 'restless': 1,\n",
              " 'moves': 1,\n",
              " 'forward': 1,\n",
              " 'ruthless': 1,\n",
              " 'extermination': 1,\n",
              " 'tactics': 1,\n",
              " 'forcing': 1,\n",
              " 'soldier': 1,\n",
              " 'stand': 1,\n",
              " 'fight': 1,\n",
              " 'back': 1,\n",
              " 'epic': 1,\n",
              " 'battle': 1,\n",
              " 'fate': 1}"
            ]
          },
          "metadata": {},
          "execution_count": 44
        }
      ]
    },
    {
      "cell_type": "code",
      "source": [
        "print(word_frequencies)"
      ],
      "metadata": {
        "colab": {
          "base_uri": "https://localhost:8080/"
        },
        "id": "U7PqZzvz471m",
        "outputId": "86469847-3d5f-4ac1-ca0a-54aa234052cd"
      },
      "execution_count": null,
      "outputs": [
        {
          "output_type": "stream",
          "name": "stdout",
          "text": [
            "{'When': 1, 'his': 4, 'brother': 1, 'is': 1, 'killed': 1, 'in': 5, 'a': 3, 'robbery': 1, 'paraplegic': 1, 'Marine': 1, 'Jake': 3, 'Sully': 1, 'decides': 1, 'to': 5, 'take': 2, 'place': 1, 'mission': 1, 'on': 1, 'the': 13, 'distant': 1, 'world': 1, 'of': 6, 'Pandora': 2, 'There': 1, 'he': 1, 'learns': 1, 'greedy': 1, 'corporate': 1, 'figurehead': 1, 'Parker': 1, 'Selfridge': 1, \"'s\": 1, 'intentions': 1, 'driving': 1, 'off': 1, 'native': 2, 'humanoid': 1, \"Na'vi\": 2, 'order': 1, 'mine': 1, 'for': 4, 'precious': 1, 'material': 1, 'scattered': 1, 'throughout': 1, 'their': 2, 'rich': 1, 'woodland': 1, 'In': 1, 'exchange': 1, 'spinal': 1, 'surgery': 1, 'that': 1, 'will': 1, 'fix': 1, 'legs': 1, 'gathers': 1, 'knowledge': 1, 'Indigenous': 1, 'Race': 1, 'and': 3, 'Culture': 1, 'cooperating': 1, 'military': 1, 'unit': 1, 'spearheaded': 1, 'by': 1, 'gung': 1, 'ho': 1, 'Colonel': 2, 'Quaritch': 1, 'while': 1, 'simultaneously': 1, 'attempting': 1, 'infiltrate': 1, 'people': 1, 'with': 4, 'use': 1, 'an': 2, 'avatar': 1, 'identity': 1, 'While': 1, 'begins': 1, 'bond': 1, 'tribe': 1, 'quickly': 1, 'falls': 1, 'love': 1, 'beautiful': 1, 'alien': 1, 'Neytiri': 1, 'restless': 1, 'moves': 1, 'forward': 1, 'ruthless': 1, 'extermination': 1, 'tactics': 1, 'forcing': 1, 'soldier': 1, 'stand': 1, 'fight': 1, 'back': 1, 'epic': 1, 'battle': 1, 'fate': 1}\n"
          ]
        }
      ]
    },
    {
      "cell_type": "code",
      "source": [
        "max_frequency=max(word_frequencies.values())"
      ],
      "metadata": {
        "id": "KpI2uY_K5Hdq"
      },
      "execution_count": null,
      "outputs": []
    },
    {
      "cell_type": "code",
      "source": [
        "max_frequency"
      ],
      "metadata": {
        "colab": {
          "base_uri": "https://localhost:8080/"
        },
        "id": "N2UYbkTp5P1x",
        "outputId": "ae4f143f-d004-4624-dc91-e8b75cb60799"
      },
      "execution_count": null,
      "outputs": [
        {
          "output_type": "execute_result",
          "data": {
            "text/plain": [
              "13"
            ]
          },
          "metadata": {},
          "execution_count": 47
        }
      ]
    },
    {
      "cell_type": "code",
      "source": [
        "for word in word_frequencies.keys():\n",
        "  word_frequencies[word] = word_frequencies[word]/max_frequency"
      ],
      "metadata": {
        "id": "0uoSOL3G5c5m"
      },
      "execution_count": null,
      "outputs": []
    },
    {
      "cell_type": "code",
      "source": [
        "print(word_frequencies)"
      ],
      "metadata": {
        "colab": {
          "base_uri": "https://localhost:8080/"
        },
        "id": "mdktvizs7USG",
        "outputId": "310a6aaf-85f0-46f6-f9d5-06f72d7c0f7d"
      },
      "execution_count": null,
      "outputs": [
        {
          "output_type": "stream",
          "name": "stdout",
          "text": [
            "{'When': 0.07692307692307693, 'his': 0.3076923076923077, 'brother': 0.07692307692307693, 'is': 0.07692307692307693, 'killed': 0.07692307692307693, 'in': 0.38461538461538464, 'a': 0.23076923076923078, 'robbery': 0.07692307692307693, 'paraplegic': 0.07692307692307693, 'Marine': 0.07692307692307693, 'Jake': 0.23076923076923078, 'Sully': 0.07692307692307693, 'decides': 0.07692307692307693, 'to': 0.38461538461538464, 'take': 0.15384615384615385, 'place': 0.07692307692307693, 'mission': 0.07692307692307693, 'on': 0.07692307692307693, 'the': 1.0, 'distant': 0.07692307692307693, 'world': 0.07692307692307693, 'of': 0.46153846153846156, 'Pandora': 0.15384615384615385, 'There': 0.07692307692307693, 'he': 0.07692307692307693, 'learns': 0.07692307692307693, 'greedy': 0.07692307692307693, 'corporate': 0.07692307692307693, 'figurehead': 0.07692307692307693, 'Parker': 0.07692307692307693, 'Selfridge': 0.07692307692307693, \"'s\": 0.07692307692307693, 'intentions': 0.07692307692307693, 'driving': 0.07692307692307693, 'off': 0.07692307692307693, 'native': 0.15384615384615385, 'humanoid': 0.07692307692307693, \"Na'vi\": 0.15384615384615385, 'order': 0.07692307692307693, 'mine': 0.07692307692307693, 'for': 0.3076923076923077, 'precious': 0.07692307692307693, 'material': 0.07692307692307693, 'scattered': 0.07692307692307693, 'throughout': 0.07692307692307693, 'their': 0.15384615384615385, 'rich': 0.07692307692307693, 'woodland': 0.07692307692307693, 'In': 0.07692307692307693, 'exchange': 0.07692307692307693, 'spinal': 0.07692307692307693, 'surgery': 0.07692307692307693, 'that': 0.07692307692307693, 'will': 0.07692307692307693, 'fix': 0.07692307692307693, 'legs': 0.07692307692307693, 'gathers': 0.07692307692307693, 'knowledge': 0.07692307692307693, 'Indigenous': 0.07692307692307693, 'Race': 0.07692307692307693, 'and': 0.23076923076923078, 'Culture': 0.07692307692307693, 'cooperating': 0.07692307692307693, 'military': 0.07692307692307693, 'unit': 0.07692307692307693, 'spearheaded': 0.07692307692307693, 'by': 0.07692307692307693, 'gung': 0.07692307692307693, 'ho': 0.07692307692307693, 'Colonel': 0.15384615384615385, 'Quaritch': 0.07692307692307693, 'while': 0.07692307692307693, 'simultaneously': 0.07692307692307693, 'attempting': 0.07692307692307693, 'infiltrate': 0.07692307692307693, 'people': 0.07692307692307693, 'with': 0.3076923076923077, 'use': 0.07692307692307693, 'an': 0.15384615384615385, 'avatar': 0.07692307692307693, 'identity': 0.07692307692307693, 'While': 0.07692307692307693, 'begins': 0.07692307692307693, 'bond': 0.07692307692307693, 'tribe': 0.07692307692307693, 'quickly': 0.07692307692307693, 'falls': 0.07692307692307693, 'love': 0.07692307692307693, 'beautiful': 0.07692307692307693, 'alien': 0.07692307692307693, 'Neytiri': 0.07692307692307693, 'restless': 0.07692307692307693, 'moves': 0.07692307692307693, 'forward': 0.07692307692307693, 'ruthless': 0.07692307692307693, 'extermination': 0.07692307692307693, 'tactics': 0.07692307692307693, 'forcing': 0.07692307692307693, 'soldier': 0.07692307692307693, 'stand': 0.07692307692307693, 'fight': 0.07692307692307693, 'back': 0.07692307692307693, 'epic': 0.07692307692307693, 'battle': 0.07692307692307693, 'fate': 0.07692307692307693}\n"
          ]
        }
      ]
    },
    {
      "cell_type": "code",
      "source": [
        "sentence_tokens=[sent for sent in doc.sents]\n",
        "print(sentence_tokens)"
      ],
      "metadata": {
        "colab": {
          "base_uri": "https://localhost:8080/"
        },
        "id": "QejI4PXq7Zf9",
        "outputId": "a3b16fd7-7877-4857-a331-30b5dc57d0ee"
      },
      "execution_count": null,
      "outputs": [
        {
          "output_type": "stream",
          "name": "stdout",
          "text": [
            "[\n",
            "When his brother is killed in a robbery, paraplegic Marine Jake Sully decides to take his place in a mission on the distant world of Pandora., There he learns of greedy corporate figurehead Parker Selfridge's intentions of driving off the native humanoid \"Na'vi\" in order to mine for the precious material scattered throughout their rich woodland., In exchange for the spinal surgery that will fix his legs, Jake gathers knowledge, of the Indigenous Race and their Culture, for the cooperating military unit spearheaded by gung-ho Colonel Quaritch, while simultaneously attempting to infiltrate the Na'vi people with the use of an \"avatar\" identity., While Jake begins to bond with the native tribe and quickly falls in love with the beautiful alien Neytiri, the restless Colonel moves forward with his ruthless extermination tactics, forcing the soldier to take a stand - and fight back in an epic battle for the fate of Pandora.\n",
            "]\n"
          ]
        }
      ]
    },
    {
      "cell_type": "code",
      "source": [
        "sentence_scores = {}\n",
        "for sent in sentence_tokens:\n",
        "    for word in sent:\n",
        "        if word.text.lower() in word_frequencies.keys():\n",
        "            if sent not in sentence_scores.keys():\n",
        "                sentence_scores[sent]=word_frequencies[word.text.lower()]\n",
        "            else: sentence_scores[sent]+= word_frequencies[word.text.lower()]"
      ],
      "metadata": {
        "id": "jmvMUasc74WV"
      },
      "execution_count": null,
      "outputs": []
    },
    {
      "cell_type": "code",
      "source": [
        "sentence_scores"
      ],
      "metadata": {
        "colab": {
          "base_uri": "https://localhost:8080/"
        },
        "id": "pDZCCSNWBuB9",
        "outputId": "4b8b348d-f15a-41aa-8ccc-fbfb90c98eba"
      },
      "execution_count": null,
      "outputs": [
        {
          "output_type": "execute_result",
          "data": {
            "text/plain": [
              "{\n",
              " When his brother is killed in a robbery, paraplegic Marine Jake Sully decides to take his place in a mission on the distant world of Pandora.: 4.6923076923076925,\n",
              " There he learns of greedy corporate figurehead Parker Selfridge's intentions of driving off the native humanoid \"Na'vi\" in order to mine for the precious material scattered throughout their rich woodland.: 5.692307692307691,\n",
              " In exchange for the spinal surgery that will fix his legs, Jake gathers knowledge, of the Indigenous Race and their Culture, for the cooperating military unit spearheaded by gung-ho Colonel Quaritch, while simultaneously attempting to infiltrate the Na'vi people with the use of an \"avatar\" identity.: 10.307692307692307,\n",
              " While Jake begins to bond with the native tribe and quickly falls in love with the beautiful alien Neytiri, the restless Colonel moves forward with his ruthless extermination tactics, forcing the soldier to take a stand - and fight back in an epic battle for the fate of Pandora.: 11.461538461538456}"
            ]
          },
          "metadata": {},
          "execution_count": 57
        }
      ]
    },
    {
      "cell_type": "code",
      "source": [
        "from heapq import nlargest"
      ],
      "metadata": {
        "id": "Kv0Vu5gWByKA"
      },
      "execution_count": null,
      "outputs": []
    },
    {
      "cell_type": "code",
      "source": [
        "select_length =int(len(sentence_tokens)*0.3)\n",
        "select_length "
      ],
      "metadata": {
        "colab": {
          "base_uri": "https://localhost:8080/"
        },
        "id": "TJuv9j5FB8bW",
        "outputId": "79596b79-8768-4637-9144-8ddc50442bcc"
      },
      "execution_count": null,
      "outputs": [
        {
          "output_type": "execute_result",
          "data": {
            "text/plain": [
              "1"
            ]
          },
          "metadata": {},
          "execution_count": 59
        }
      ]
    },
    {
      "cell_type": "code",
      "source": [
        "summary=nlargest(select_length, sentence_scores, key= sentence_scores.get)"
      ],
      "metadata": {
        "id": "ZXQ_l2hYCRQE"
      },
      "execution_count": null,
      "outputs": []
    },
    {
      "cell_type": "code",
      "source": [
        "summary"
      ],
      "metadata": {
        "colab": {
          "base_uri": "https://localhost:8080/"
        },
        "id": "1ToN_EXBCf-g",
        "outputId": "57c092df-c1ba-4a27-b1c9-ed2940debc0b"
      },
      "execution_count": null,
      "outputs": [
        {
          "output_type": "execute_result",
          "data": {
            "text/plain": [
              "[While Jake begins to bond with the native tribe and quickly falls in love with the beautiful alien Neytiri, the restless Colonel moves forward with his ruthless extermination tactics, forcing the soldier to take a stand - and fight back in an epic battle for the fate of Pandora.]"
            ]
          },
          "metadata": {},
          "execution_count": 61
        }
      ]
    },
    {
      "cell_type": "code",
      "source": [
        "final_summary= [word.text for word in summary]"
      ],
      "metadata": {
        "id": "2erJ3oIUClNZ"
      },
      "execution_count": null,
      "outputs": []
    },
    {
      "cell_type": "code",
      "source": [
        "summary = ' '.join(final_summary)"
      ],
      "metadata": {
        "id": "yxaACtJ9Cz7o"
      },
      "execution_count": null,
      "outputs": []
    },
    {
      "cell_type": "code",
      "source": [
        "print(text)"
      ],
      "metadata": {
        "colab": {
          "base_uri": "https://localhost:8080/"
        },
        "id": "nOq49-Q5C7w3",
        "outputId": "02e3ad03-8725-4d17-9a84-5c40d1b54199"
      },
      "execution_count": null,
      "outputs": [
        {
          "output_type": "stream",
          "name": "stdout",
          "text": [
            "\n",
            "When his brother is killed in a robbery, paraplegic Marine Jake Sully decides to take his place in a mission on the distant world of Pandora. There he learns of greedy corporate figurehead Parker Selfridge's intentions of driving off the native humanoid \"Na'vi\" in order to mine for the precious material scattered throughout their rich woodland. In exchange for the spinal surgery that will fix his legs, Jake gathers knowledge, of the Indigenous Race and their Culture, for the cooperating military unit spearheaded by gung-ho Colonel Quaritch, while simultaneously attempting to infiltrate the Na'vi people with the use of an \"avatar\" identity. While Jake begins to bond with the native tribe and quickly falls in love with the beautiful alien Neytiri, the restless Colonel moves forward with his ruthless extermination tactics, forcing the soldier to take a stand - and fight back in an epic battle for the fate of Pandora.\n",
            "\n"
          ]
        }
      ]
    },
    {
      "cell_type": "code",
      "source": [
        "print(summary)"
      ],
      "metadata": {
        "colab": {
          "base_uri": "https://localhost:8080/"
        },
        "id": "i3882pl2DDGh",
        "outputId": "d4b08441-8543-4575-89e8-60827620536d"
      },
      "execution_count": null,
      "outputs": [
        {
          "output_type": "stream",
          "name": "stdout",
          "text": [
            "While Jake begins to bond with the native tribe and quickly falls in love with the beautiful alien Neytiri, the restless Colonel moves forward with his ruthless extermination tactics, forcing the soldier to take a stand - and fight back in an epic battle for the fate of Pandora.\n",
            "\n"
          ]
        }
      ]
    },
    {
      "cell_type": "code",
      "source": [
        "len(text)"
      ],
      "metadata": {
        "colab": {
          "base_uri": "https://localhost:8080/"
        },
        "id": "q4SfBq2ADKpR",
        "outputId": "ae28fda5-99c9-4dc8-9667-be913e66a091"
      },
      "execution_count": null,
      "outputs": [
        {
          "output_type": "execute_result",
          "data": {
            "text/plain": [
              "929"
            ]
          },
          "metadata": {},
          "execution_count": 66
        }
      ]
    },
    {
      "cell_type": "code",
      "source": [
        "len(summary)"
      ],
      "metadata": {
        "colab": {
          "base_uri": "https://localhost:8080/"
        },
        "id": "Icdta1Z9DOU1",
        "outputId": "abbee41d-8f95-4b81-f466-1475f92f5244"
      },
      "execution_count": null,
      "outputs": [
        {
          "output_type": "execute_result",
          "data": {
            "text/plain": [
              "280"
            ]
          },
          "metadata": {},
          "execution_count": 67
        }
      ]
    }
  ]
}